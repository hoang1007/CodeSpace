{
  "cells": [
    {
      "cell_type": "markdown",
      "metadata": {
        "id": "view-in-github",
        "colab_type": "text"
      },
      "source": [
        "<a href=\"https://colab.research.google.com/github/hoang1007/CodeSpace/blob/master/mnist_simple_cnn.ipynb\" target=\"_parent\"><img src=\"https://colab.research.google.com/assets/colab-badge.svg\" alt=\"Open In Colab\"/></a>"
      ]
    },
    {
      "cell_type": "code",
      "source": [
        "from google.colab import drive\n",
        "drive.mount('/content/drive')"
      ],
      "metadata": {
        "colab": {
          "base_uri": "https://localhost:8080/"
        },
        "id": "kquPOuR3e0Ca",
        "outputId": "3533f2c2-3e20-47bb-90c7-7ae2e25fed1f"
      },
      "execution_count": 1,
      "outputs": [
        {
          "output_type": "stream",
          "name": "stdout",
          "text": [
            "Mounted at /content/drive\n"
          ]
        }
      ]
    },
    {
      "cell_type": "code",
      "execution_count": 2,
      "metadata": {
        "id": "qC-K-AvjUUOZ"
      },
      "outputs": [],
      "source": [
        "import torch\n",
        "from torch import nn\n",
        "import torch.nn.functional as F\n",
        "from torch.utils.data import DataLoader, Dataset\n",
        "from torchvision.datasets import MNIST\n",
        "import matplotlib.pyplot as plt\n",
        "import torchvision.transforms as transforms\n",
        "import statistics\n",
        "import math\n",
        "from tqdm import tqdm\n",
        "import os\n",
        "import pickle"
      ]
    },
    {
      "cell_type": "markdown",
      "metadata": {
        "id": "UzqRDWPCUUOc"
      },
      "source": [
        "# Implemet các model CNN"
      ]
    },
    {
      "cell_type": "code",
      "execution_count": 3,
      "metadata": {
        "colab": {
          "base_uri": "https://localhost:8080/"
        },
        "id": "3QKRrOkBUUOe",
        "outputId": "70e84618-20dd-4b6d-d033-0ce9cbd4ae6b"
      },
      "outputs": [
        {
          "output_type": "execute_result",
          "data": {
            "text/plain": [
              "torch.Size([1, 32, 26, 26])"
            ]
          },
          "metadata": {},
          "execution_count": 3
        }
      ],
      "source": [
        "class ConvBlock(nn.Module):\n",
        "    def __init__(self, in_channel, out_channels, kernel_size):\n",
        "        super().__init__()\n",
        "\n",
        "        self.conv = nn.Conv2d(in_channel, out_channels, kernel_size)\n",
        "\n",
        "        self.batch_norm = nn.BatchNorm2d(out_channels)\n",
        "    \n",
        "    def forward(self, x):    \n",
        "        x = self.conv(x)\n",
        "        x = self.batch_norm(x)\n",
        "        x = F.relu(x)\n",
        "\n",
        "        return x\n",
        "\n",
        "ConvBlock(3, 32, 3)(torch.rand((1, 3, 28, 28))).shape"
      ]
    },
    {
      "cell_type": "markdown",
      "metadata": {
        "id": "4dGg_bOIUUOg"
      },
      "source": [
        "## Model chỉ bao gồm các convolution block"
      ]
    },
    {
      "cell_type": "code",
      "execution_count": 4,
      "metadata": {
        "colab": {
          "base_uri": "https://localhost:8080/"
        },
        "id": "9qrnaBHjUUOg",
        "outputId": "c5f7ea2b-5737-46b8-fe99-92886c6317c0"
      },
      "outputs": [
        {
          "output_type": "execute_result",
          "data": {
            "text/plain": [
              "torch.Size([2, 10])"
            ]
          },
          "metadata": {},
          "execution_count": 4
        }
      ],
      "source": [
        "class SingleCNN(nn.Module):\n",
        "    def __init__(self, in_dim, out_dim, in_channel, block_channels, kernel_size):\n",
        "        '''\n",
        "        in_dim: int len of one dimensional of 2D image\n",
        "        out_dim: int dimension of output\n",
        "        '''\n",
        "        super().__init__()\n",
        "\n",
        "        self.conv_blocks = nn.Sequential(*[\n",
        "            ConvBlock(\n",
        "                in_channel if i == 0 else block_channels[i - 1],\n",
        "                block_channels[i],\n",
        "                kernel_size\n",
        "            ) for i in range(len(block_channels))\n",
        "        ])\n",
        "\n",
        "        self.linear = self._linear_block(in_dim, out_dim, block_channels, kernel_size)\n",
        "        self.batch_norm = nn.BatchNorm1d(out_dim)\n",
        "    \n",
        "    def _linear_block(self, in_dim, out_dim, block_channels, kernel_size):\n",
        "        conv_out_dim = in_dim - (kernel_size - 1) * len(block_channels)\n",
        "        linear_input_dim = conv_out_dim**2 * block_channels[-1]\n",
        "\n",
        "        linear = nn.Linear(linear_input_dim, out_dim)\n",
        "        return linear\n",
        "\n",
        "    def forward(self, x):\n",
        "        batch_size = x.size(0)\n",
        "        \n",
        "        # conv_outputs.shape == (batch_size, channels, img_size, img_size)\n",
        "        conv_outputs = self.conv_blocks(x)\n",
        "        conv_outputs = torch.flatten(conv_outputs, start_dim=1)\n",
        "\n",
        "        linear_outputs = self.linear(conv_outputs)\n",
        "        linear_outputs = self.batch_norm(linear_outputs)\n",
        "\n",
        "        return linear_outputs\n",
        "\n",
        "\n",
        "SingleCNN(28, 10, 3, [5, 7], 3)(torch.rand((2, 3, 28, 28))).shape"
      ]
    },
    {
      "cell_type": "markdown",
      "metadata": {
        "id": "Pjdo712BUUOh"
      },
      "source": [
        "# Utilities"
      ]
    },
    {
      "cell_type": "markdown",
      "metadata": {
        "id": "Kv-1iq4TUUOi"
      },
      "source": [
        "## Majority Voting"
      ]
    },
    {
      "cell_type": "code",
      "execution_count": 5,
      "metadata": {
        "colab": {
          "base_uri": "https://localhost:8080/"
        },
        "id": "nXlJ3vJ3UUOi",
        "outputId": "88c099ef-66b7-4ade-d860-89c56e2003f9"
      },
      "outputs": [
        {
          "output_type": "execute_result",
          "data": {
            "text/plain": [
              "tensor([3, 3, 0, 1, 0])"
            ]
          },
          "metadata": {},
          "execution_count": 5
        }
      ],
      "source": [
        "import random\n",
        "\n",
        "def arg_max_frequency(inputs: torch.tensor):\n",
        "    '''\n",
        "    inputs: vector\n",
        "    '''\n",
        "    freq = {}\n",
        "\n",
        "    for arg in inputs:\n",
        "        if arg.item() in freq:\n",
        "            freq[arg.item()] += 1\n",
        "        else:\n",
        "            freq[arg.item()] = 1\n",
        "\n",
        "    max_freq = 0\n",
        "    args_max = []\n",
        "\n",
        "    for arg in freq:\n",
        "        if max_freq == freq[arg]:\n",
        "            args_max.append(arg)\n",
        "        elif max_freq < freq[arg]:\n",
        "            max_freq = freq[arg]\n",
        "            args_max.clear()\n",
        "\n",
        "            args_max.append(arg)\n",
        "\n",
        "    return random.choice(args_max)\n",
        "\n",
        "def majority_voting(*outputs):\n",
        "    '''\n",
        "    output.shape == (batch_size, num_classes)\n",
        "    '''\n",
        "\n",
        "    # outputs.shape == (num_predict, batch_size)\n",
        "    outputs = torch.stack([torch.argmax(output, dim=-1) for output in outputs])\n",
        "    outputs = outputs.transpose(0, 1) # (batch_size, num_predict)\n",
        "\n",
        "    votings = torch.tensor([arg_max_frequency(output) for output in outputs])\n",
        "\n",
        "    return votings.type_as(outputs)\n",
        "\n",
        "majority_voting(\n",
        "    torch.rand((5, 4)),\n",
        "    torch.rand((5, 4)),\n",
        "    torch.rand((5, 4))\n",
        ")\n"
      ]
    },
    {
      "cell_type": "markdown",
      "metadata": {
        "id": "VKKWdu_ZUUOj"
      },
      "source": [
        "## Setup auto recovering model and training state"
      ]
    },
    {
      "cell_type": "code",
      "execution_count": 6,
      "metadata": {
        "id": "MIqnPgsbUUOk"
      },
      "outputs": [],
      "source": [
        "class IModel(nn.Module):\n",
        "    def __init__(self, model_name=None):\n",
        "        super().__init__()\n",
        "        self.device = \"cpu\"\n",
        "        self._model_name = model_name\n",
        "        self._state = {}\n",
        "\n",
        "    def configure_optimizers(self, *args, **kwargs):\n",
        "        raise NotImplementedError()\n",
        "\n",
        "    def training_step(self, batch, batch_idx):\n",
        "        raise NotImplementedError()\n",
        "\n",
        "    def validation_step(self, batch, batch_idx):\n",
        "        raise NotImplementedError()\n",
        "\n",
        "    def training_epoch_end(self, train_outputs, epoch):\n",
        "        pass\n",
        "\n",
        "    def validation_epoch_end(self, val_outputs, epoch):\n",
        "        pass\n",
        "\n",
        "    def configure_optimizers(self):\n",
        "        raise NotImplementedError()\n",
        "\n",
        "    def restore(self):\n",
        "        raise NotImplementedError()\n",
        "\n",
        "    @property\n",
        "    def state(self):\n",
        "        return self._state\n",
        "\n",
        "    @property\n",
        "    def name(self):\n",
        "        return self._model_name\n",
        "\n",
        "    def to(self, device):\n",
        "        self.device = device\n",
        "        return super().to(device)"
      ]
    },
    {
      "cell_type": "code",
      "execution_count": 7,
      "metadata": {
        "id": "2utnG7GdUUOk"
      },
      "outputs": [],
      "source": [
        "class Trainer:\n",
        "    def __init__(self, checkpoint_dir, restore_if_available=True, update_bar_fraction=.02):\n",
        "        self.checkpoint_dir = checkpoint_dir\n",
        "        self.restore_if_available = restore_if_available\n",
        "        self.update_bar_fraction = update_bar_fraction\n",
        "\n",
        "    def fit(self, model: IModel, train_dataloader, val_dataloader, epochs, device=\"cpu\"):\n",
        "        model_checkpoint = os.path.join(self.checkpoint_dir, model.name)\n",
        "        \n",
        "        pre_state = self._get_previous_state(model_checkpoint) \\\n",
        "            if self.restore_if_available else None\n",
        "\n",
        "        if pre_state is not None:\n",
        "            start_epoch = pre_state[\"epoch\"]\n",
        "\n",
        "            if start_epoch == epochs:\n",
        "              return\n",
        "            else:\n",
        "              print(\"Restoring from last session\")\n",
        "\n",
        "            model.restore(pre_state[\"model_state\"])\n",
        "            \n",
        "            optimizer = pre_state[\"optimizer\"]\n",
        "            scheduler = pre_state[\"scheduler\"]\n",
        "        else:\n",
        "            start_epoch = 1\n",
        "            optimizer, scheduler = model.configure_optimizers()\n",
        "\n",
        "        model = model.to(device)\n",
        "\n",
        "        # Run val test on the first run\n",
        "        if pre_state is None:\n",
        "          self._val_per_epoch(model, val_dataloader, 0)\n",
        "        \n",
        "        for epoch in range(start_epoch, epochs + 1):\n",
        "            self._train_per_epoch(model, train_dataloader, optimizer, scheduler, epoch)\n",
        "\n",
        "            self._val_per_epoch(model, val_dataloader, epoch)\n",
        "\n",
        "            training_state = {\n",
        "                \"model_state\": model.state,\n",
        "                \"epoch\": epoch,\n",
        "                \"optimizer\": optimizer,\n",
        "                \"scheduler\": scheduler\n",
        "            }\n",
        "\n",
        "            if pre_state is None or epoch >= pre_state[\"epoch\"]:\n",
        "              self._save_state(model_checkpoint, training_state)\n",
        "            else:\n",
        "              print(f\"\"\"Skip backup model state on epoch {epoch}\n",
        "                          since it's lower than backed up model\"\"\")\n",
        "                                    \n",
        "\n",
        "    def _train_per_epoch(self, model: IModel, train_dataloader, optimizer, scheduler, epoch):\n",
        "        model.train()\n",
        "        train_outputs = []\n",
        "\n",
        "        update_bar_step = math.ceil(len(train_dataloader) * self.update_bar_fraction)\n",
        "\n",
        "        with tqdm(train_dataloader, unit='batch') as training_bar:\n",
        "            training_bar.set_description(f\"Epoch {epoch}\")\n",
        "\n",
        "            loss_log = []\n",
        "\n",
        "            for idx, batch in enumerate(training_bar):\n",
        "                optimizer.zero_grad()\n",
        "\n",
        "                train_output = model.training_step(batch, idx)\n",
        "\n",
        "                train_outputs.append(train_output)\n",
        "\n",
        "                loss = train_output[0] if isinstance(train_output, tuple) else train_output\n",
        "\n",
        "                loss.backward()\n",
        "                optimizer.step()\n",
        "\n",
        "                loss_log.append(loss.item())\n",
        "                \n",
        "                if idx % update_bar_step == 0:\n",
        "                    training_bar.set_postfix(loss=statistics.mean(loss_log))\n",
        "                    loss_log.clear()\n",
        "            scheduler.step()\n",
        "\n",
        "            model.training_epoch_end(train_outputs, epoch)\n",
        "\n",
        "    def _val_per_epoch(self, model: IModel, val_dataloader, epoch):\n",
        "        model.eval()\n",
        "\n",
        "        val_outputs = []\n",
        "\n",
        "        with torch.no_grad():\n",
        "            for idx, batch in enumerate(val_dataloader):\n",
        "                val_output = model.validation_step(batch, idx)\n",
        "\n",
        "                val_outputs.append(val_output)\n",
        "\n",
        "            model.validation_epoch_end(val_outputs, epoch)\n",
        "\n",
        "    def _get_previous_state(self, filepath):\n",
        "        if os.path.exists(filepath):\n",
        "            with open(filepath, \"rb\") as f:\n",
        "                pre_state = pickle.load(f)\n",
        "        else:\n",
        "            pre_state = None\n",
        "\n",
        "        return pre_state\n",
        "\n",
        "    def _save_state(self, filepath, state):\n",
        "        with open(filepath, \"wb\") as f:\n",
        "            pickle.dump(state, f, pickle.HIGHEST_PROTOCOL)\n",
        "        "
      ]
    },
    {
      "cell_type": "markdown",
      "metadata": {
        "id": "J_wcpO3IUUOm"
      },
      "source": [
        "# Training"
      ]
    },
    {
      "cell_type": "code",
      "execution_count": 8,
      "metadata": {
        "id": "alSueZHeUUOn"
      },
      "outputs": [],
      "source": [
        "class SingleModel(IModel):\n",
        "    def __init__(self, block_channels, kernel_size, model_name):\n",
        "        super().__init__(model_name)\n",
        "\n",
        "        self.random_affine = transforms.RandomAffine(MAX_ROTATION_DEGREE, MAX_TRANSLATION_FRACTION)\n",
        "\n",
        "        self.cnn = SingleCNN(IMG_SIZE, N_DIGITS, 1, block_channels, kernel_size)\n",
        "        \n",
        "    def forward(self, x):\n",
        "        return self.cnn(x)\n",
        "\n",
        "    def training_step(self, batch, batch_idx):\n",
        "        imgs, labels = batch\n",
        "\n",
        "        imgs = imgs.to(self.device)\n",
        "        labels = labels.to(self.device)\n",
        "\n",
        "        for i in range(imgs.size(0)):\n",
        "            imgs[i] = self.random_affine(imgs[i])\n",
        "        \n",
        "        logits = self(imgs) # (batch_size, n_digits)\n",
        "\n",
        "        loss = F.cross_entropy(logits, labels)\n",
        "\n",
        "        return loss, logits, labels\n",
        "\n",
        "    def validation_step(self, batch, batch_idx):\n",
        "        imgs, labels = batch\n",
        "\n",
        "        imgs = imgs.to(self.device)\n",
        "        labels = labels.to(self.device)\n",
        "\n",
        "        logits = self(imgs) # (batch_size, n_digits)\n",
        "\n",
        "        return logits, labels\n",
        "\n",
        "    def configure_optimizers(self):\n",
        "        optimizer = torch.optim.Adam(self.parameters(), LR, weight_decay=WEIGHT_DECAY)\n",
        "        scheduler = torch.optim.lr_scheduler.ExponentialLR(optimizer, gamma=EXPO_GAMMA)\n",
        "\n",
        "        return optimizer, scheduler\n",
        "\n",
        "    def validation_epoch_end(self, val_outputs, epoch):\n",
        "        num_correct = 0\n",
        "        num_labels = 0\n",
        "\n",
        "        for logits, labels in val_outputs:\n",
        "            predicted = torch.argmax(logits, dim=-1)\n",
        "\n",
        "            num_correct += torch.sum(predicted == labels).item()\n",
        "            num_labels += predicted.size(0)\n",
        "\n",
        "        accur = round(num_correct / num_labels, 2)\n",
        "\n",
        "        if \"val_accur\" in self._state:\n",
        "            self._state[\"val_accur\"].append(accur)\n",
        "        else:\n",
        "            self._state[\"val_accur\"] = [accur]\n",
        "\n",
        "        print(f\"Accuracy on epoch {epoch}:\", num_correct / num_labels)\n",
        "\n",
        "    def training_epoch_end(self, training_outputs, epoch):\n",
        "        num_correct = 0\n",
        "        num_labels = 0\n",
        "\n",
        "        for _, logits, labels in training_outputs:\n",
        "            predicted = torch.argmax(logits, dim=-1)\n",
        "\n",
        "            num_correct += torch.sum(predicted == labels).item()\n",
        "            num_labels += predicted.size(0)\n",
        "\n",
        "        accur = round(num_correct / num_labels, 2)\n",
        "\n",
        "        # backup state dict\n",
        "        self._state[\"state_dict\"] = self.state_dict()\n",
        "        \n",
        "        if \"train_accur\" in self._state:\n",
        "            self._state[\"train_accur\"].append(accur)\n",
        "        else:\n",
        "            self._state[\"train_accur\"] = [accur]\n",
        "\n",
        "    def restore(self, state):\n",
        "        self.load_state_dict(state[\"state_dict\"])\n",
        "        self._state = state"
      ]
    },
    {
      "cell_type": "code",
      "source": [
        "IMG_SIZE = 28\n",
        "N_DIGITS = 10\n",
        "MAX_ROTATION_DEGREE = 20\n",
        "MAX_TRANSLATION_FRACTION = (0.2, 0.2)\n",
        "LR = 1e-3\n",
        "WEIGHT_DECAY = 1e-4\n",
        "EXPO_GAMMA = 0.999\n",
        "BATCH_SIZE = 120\n",
        "EPOCHS = 60\n",
        "N_MODEL = 10\n",
        "CHECKPOINT_DIR = \"/content/drive/Shareddrives/colab/mnist_checkpoint/\""
      ],
      "metadata": {
        "id": "P24iDE3keYyv"
      },
      "execution_count": 9,
      "outputs": []
    },
    {
      "cell_type": "code",
      "source": [
        "train_data = MNIST(\".data\", train=True, transform=transforms.ToTensor(), download=True)\n",
        "val_data = MNIST(\".data\", train=False, transform=transforms.ToTensor(), download=True)"
      ],
      "metadata": {
        "id": "oNPFQjhNF810",
        "colab": {
          "base_uri": "https://localhost:8080/",
          "height": 437,
          "referenced_widgets": [
            "ef5712b480b242e5801ea3e0cfff1f86",
            "1bacc986ee4a4480bb22d1bca62ff1d0",
            "11404866bcf54747866f6f2a214bafa6",
            "f591553a9d76425c9e1e4ed7e544313e",
            "85114ff3d9a442ea9d6bf50559595998",
            "01686503bb2a4b1f87b5d90f1d72efc5",
            "60e0de7dda5d4a9f852408ce3cf44451",
            "56cb90429bb0491e8e5356b83b905287",
            "cd7ff44837e941f88ad94ba85d2f72c9",
            "aae196a3f3f24ee791de7984774d09cb",
            "e4bd482029404e80ac69d3857c8f8f66",
            "9a5ad0227cc7445e994959ae1fe0f353",
            "a2512123e818450cb065611712980f86",
            "f2099c0db1e54658aebabdc02f72dbfe",
            "2e5697a94e0f49ba8445be58913241bd",
            "22c5da6c79954254a084c9999a61c5fa",
            "515bd78ab07040fc98c11acc96f959df",
            "af43d5981b26428fad7681e0bc3304cf",
            "aeae34975b69499b84a4a02029097b2a",
            "42e385a7f79f482899fa89c10d2fe0b3",
            "6fbf836d5df94a63b9045356ff923001",
            "a6bb04c6b6c940f1a8fdd11ef90e0972",
            "fc87fd16252d4b15ad98e73a34622ced",
            "2c45932758a447deaccbd0385646aed2",
            "25ac7f1d88774e7b90a974f76dccbc09",
            "454ede92cd26475f9bf05dbb8530fc52",
            "cd1123b4c6774a4e96e5382de6b5989c",
            "d32baeb99c9045838eb2a8d9404e4246",
            "5aff1c6928884961a77757094cd9e02d",
            "26d9b23ffe704af286d7247f30932a55",
            "f743a9d0f3274d3cac87ec446d8725cc",
            "ce802075efcb438b9b29001444747c16",
            "4877de80777d4e0d9f501eb08fb345bf",
            "b426dda8b88047bdb35ab9243524ef49",
            "d9b6fe0898af498bbbb04fcb1607d863",
            "5c90ca998bf2414f8f177b1590bfceb0",
            "e27a1bdffc634ccf88ef469b94247299",
            "1584e361ef7748c2b4d31a677cccf8cf",
            "a34fb5214a594c8eac5363837e9d8a63",
            "fb2ea1e40b8c446b9b9e0ae2e7bcc560",
            "85e16462128d42ccaec1a014173709f9",
            "fb8429808f2e43e885d6787bd2774ec6",
            "dab6dc3e2e854bf1bff7c7a755a15d7a",
            "cee20e8e511d4f98833e4eed33234ec7"
          ]
        },
        "outputId": "05adf858-970e-477b-e08d-d71f16eebf55"
      },
      "execution_count": 10,
      "outputs": [
        {
          "output_type": "stream",
          "name": "stdout",
          "text": [
            "Downloading http://yann.lecun.com/exdb/mnist/train-images-idx3-ubyte.gz\n",
            "Downloading http://yann.lecun.com/exdb/mnist/train-images-idx3-ubyte.gz to .data/MNIST/raw/train-images-idx3-ubyte.gz\n"
          ]
        },
        {
          "output_type": "display_data",
          "data": {
            "text/plain": [
              "  0%|          | 0/9912422 [00:00<?, ?it/s]"
            ],
            "application/vnd.jupyter.widget-view+json": {
              "version_major": 2,
              "version_minor": 0,
              "model_id": "ef5712b480b242e5801ea3e0cfff1f86"
            }
          },
          "metadata": {}
        },
        {
          "output_type": "stream",
          "name": "stdout",
          "text": [
            "Extracting .data/MNIST/raw/train-images-idx3-ubyte.gz to .data/MNIST/raw\n",
            "\n",
            "Downloading http://yann.lecun.com/exdb/mnist/train-labels-idx1-ubyte.gz\n",
            "Downloading http://yann.lecun.com/exdb/mnist/train-labels-idx1-ubyte.gz to .data/MNIST/raw/train-labels-idx1-ubyte.gz\n"
          ]
        },
        {
          "output_type": "display_data",
          "data": {
            "text/plain": [
              "  0%|          | 0/28881 [00:00<?, ?it/s]"
            ],
            "application/vnd.jupyter.widget-view+json": {
              "version_major": 2,
              "version_minor": 0,
              "model_id": "9a5ad0227cc7445e994959ae1fe0f353"
            }
          },
          "metadata": {}
        },
        {
          "output_type": "stream",
          "name": "stdout",
          "text": [
            "Extracting .data/MNIST/raw/train-labels-idx1-ubyte.gz to .data/MNIST/raw\n",
            "\n",
            "Downloading http://yann.lecun.com/exdb/mnist/t10k-images-idx3-ubyte.gz\n",
            "Downloading http://yann.lecun.com/exdb/mnist/t10k-images-idx3-ubyte.gz to .data/MNIST/raw/t10k-images-idx3-ubyte.gz\n"
          ]
        },
        {
          "output_type": "display_data",
          "data": {
            "text/plain": [
              "  0%|          | 0/1648877 [00:00<?, ?it/s]"
            ],
            "application/vnd.jupyter.widget-view+json": {
              "version_major": 2,
              "version_minor": 0,
              "model_id": "fc87fd16252d4b15ad98e73a34622ced"
            }
          },
          "metadata": {}
        },
        {
          "output_type": "stream",
          "name": "stdout",
          "text": [
            "Extracting .data/MNIST/raw/t10k-images-idx3-ubyte.gz to .data/MNIST/raw\n",
            "\n",
            "Downloading http://yann.lecun.com/exdb/mnist/t10k-labels-idx1-ubyte.gz\n",
            "Downloading http://yann.lecun.com/exdb/mnist/t10k-labels-idx1-ubyte.gz to .data/MNIST/raw/t10k-labels-idx1-ubyte.gz\n"
          ]
        },
        {
          "output_type": "display_data",
          "data": {
            "text/plain": [
              "  0%|          | 0/4542 [00:00<?, ?it/s]"
            ],
            "application/vnd.jupyter.widget-view+json": {
              "version_major": 2,
              "version_minor": 0,
              "model_id": "b426dda8b88047bdb35ab9243524ef49"
            }
          },
          "metadata": {}
        },
        {
          "output_type": "stream",
          "name": "stdout",
          "text": [
            "Extracting .data/MNIST/raw/t10k-labels-idx1-ubyte.gz to .data/MNIST/raw\n",
            "\n"
          ]
        }
      ]
    },
    {
      "cell_type": "code",
      "source": [
        "train_dataloader = DataLoader(train_data, batch_size=BATCH_SIZE)\n",
        "val_dataloader = DataLoader(val_data, batch_size=BATCH_SIZE)"
      ],
      "metadata": {
        "id": "8P0t9T2-hC-s"
      },
      "execution_count": 11,
      "outputs": []
    },
    {
      "cell_type": "code",
      "source": [
        "m3_models = [\n",
        "  SingleModel([16 * (i + 1) for i in range(1, 10 + 1)],\n",
        "              3, f\"M3_{k}\")\n",
        "    for k in range(N_MODEL)\n",
        "]\n",
        "\n",
        "m5_models = [\n",
        "  SingleModel([32 * i for i in range(1, 5 + 1)],\n",
        "              5, f\"M5_{k}\")\n",
        "    for k in range(N_MODEL)\n",
        "]\n",
        "\n",
        "m7_models = [\n",
        "  SingleModel([48 * i for i in range(1, 4 + 1)],\n",
        "              7, f\"M7_{k}\")\n",
        "    for k in range(N_MODEL)\n",
        "]"
      ],
      "metadata": {
        "id": "8bQgI7H8fMUy"
      },
      "execution_count": 12,
      "outputs": []
    },
    {
      "cell_type": "code",
      "execution_count": null,
      "metadata": {
        "id": "xh0wBXIKUUOo",
        "colab": {
          "base_uri": "https://localhost:8080/"
        },
        "outputId": "7c37b585-9067-4902-9f2a-df911ec678ef"
      },
      "outputs": [
        {
          "output_type": "stream",
          "name": "stderr",
          "text": [
            "Epoch 32: 100%|██████████| 500/500 [01:52<00:00,  4.44batch/s, loss=0.0209]\n"
          ]
        },
        {
          "output_type": "stream",
          "name": "stdout",
          "text": [
            "Accuracy on epoch 32: 0.9928\n"
          ]
        },
        {
          "output_type": "stream",
          "name": "stderr",
          "text": [
            "Epoch 33: 100%|██████████| 500/500 [01:52<00:00,  4.46batch/s, loss=0.0257]\n"
          ]
        },
        {
          "output_type": "stream",
          "name": "stdout",
          "text": [
            "Accuracy on epoch 33: 0.992\n"
          ]
        },
        {
          "output_type": "stream",
          "name": "stderr",
          "text": [
            "Epoch 34: 100%|██████████| 500/500 [01:56<00:00,  4.30batch/s, loss=0.0344]\n"
          ]
        },
        {
          "output_type": "stream",
          "name": "stdout",
          "text": [
            "Accuracy on epoch 34: 0.9909\n"
          ]
        },
        {
          "output_type": "stream",
          "name": "stderr",
          "text": [
            "Epoch 35: 100%|██████████| 500/500 [01:55<00:00,  4.32batch/s, loss=0.0271]\n"
          ]
        },
        {
          "output_type": "stream",
          "name": "stdout",
          "text": [
            "Accuracy on epoch 35: 0.9915\n"
          ]
        },
        {
          "output_type": "stream",
          "name": "stderr",
          "text": [
            "Epoch 36: 100%|██████████| 500/500 [01:52<00:00,  4.44batch/s, loss=0.0201]\n"
          ]
        },
        {
          "output_type": "stream",
          "name": "stdout",
          "text": [
            "Accuracy on epoch 36: 0.9922\n"
          ]
        },
        {
          "output_type": "stream",
          "name": "stderr",
          "text": [
            "Epoch 37:   3%|▎         | 16/500 [00:03<01:51,  4.34batch/s, loss=0.039]"
          ]
        }
      ],
      "source": [
        "# Train m3 models\n",
        "\n",
        "for model in m3_models:\n",
        "  trainer = Trainer(CHECKPOINT_DIR)\n",
        "\n",
        "  trainer.fit(model, train_dataloader, val_dataloader,\n",
        "              epochs=EPOCHS, device=\"cuda\" if torch.cuda.is_available() else \"cpu\")"
      ]
    },
    {
      "cell_type": "code",
      "source": [
        "# Train m5 models\n",
        "\n",
        "# for model in m5_models:\n",
        "#   trainer = Trainer(CHECKPOINT_DIR)\n",
        "\n",
        "#   trainer.fit(model, train_dataloader, val_dataloader,\n",
        "#               epochs=EPOCHS, device=\"cuda\" if torch.cuda.is_available() else \"cpu\")"
      ],
      "metadata": {
        "id": "A-cy-eRYhdle"
      },
      "execution_count": null,
      "outputs": []
    },
    {
      "cell_type": "code",
      "source": [
        "# Train m7 models\n",
        "\n",
        "# for model in m7_models:\n",
        "#   trainer = Trainer(CHECKPOINT_DIR)\n",
        "\n",
        "#   trainer.fit(model, train_dataloader, val_dataloader,\n",
        "#               epochs=EPOCHS, device=\"cuda\" if torch.cuda.is_available() else \"cpu\")"
      ],
      "metadata": {
        "id": "Rc9FZK1ihgaH"
      },
      "execution_count": null,
      "outputs": []
    }
  ],
  "metadata": {
    "interpreter": {
      "hash": "31f2aee4e71d21fbe5cf8b01ff0e069b9275f58929596ceb00d14d90e3e16cd6"
    },
    "kernelspec": {
      "display_name": "Python 3.8.2 64-bit",
      "language": "python",
      "name": "python3"
    },
    "language_info": {
      "codemirror_mode": {
        "name": "ipython",
        "version": 3
      },
      "file_extension": ".py",
      "mimetype": "text/x-python",
      "name": "python",
      "nbconvert_exporter": "python",
      "pygments_lexer": "ipython3",
      "version": "3.8.2"
    },
    "orig_nbformat": 4,
    "colab": {
      "name": "mnist_simple_cnn.ipynb",
      "provenance": [],
      "collapsed_sections": [],
      "include_colab_link": true
    },
    "accelerator": "GPU",
    "widgets": {
      "application/vnd.jupyter.widget-state+json": {
        "ef5712b480b242e5801ea3e0cfff1f86": {
          "model_module": "@jupyter-widgets/controls",
          "model_name": "HBoxModel",
          "model_module_version": "1.5.0",
          "state": {
            "_dom_classes": [],
            "_model_module": "@jupyter-widgets/controls",
            "_model_module_version": "1.5.0",
            "_model_name": "HBoxModel",
            "_view_count": null,
            "_view_module": "@jupyter-widgets/controls",
            "_view_module_version": "1.5.0",
            "_view_name": "HBoxView",
            "box_style": "",
            "children": [
              "IPY_MODEL_1bacc986ee4a4480bb22d1bca62ff1d0",
              "IPY_MODEL_11404866bcf54747866f6f2a214bafa6",
              "IPY_MODEL_f591553a9d76425c9e1e4ed7e544313e"
            ],
            "layout": "IPY_MODEL_85114ff3d9a442ea9d6bf50559595998"
          }
        },
        "1bacc986ee4a4480bb22d1bca62ff1d0": {
          "model_module": "@jupyter-widgets/controls",
          "model_name": "HTMLModel",
          "model_module_version": "1.5.0",
          "state": {
            "_dom_classes": [],
            "_model_module": "@jupyter-widgets/controls",
            "_model_module_version": "1.5.0",
            "_model_name": "HTMLModel",
            "_view_count": null,
            "_view_module": "@jupyter-widgets/controls",
            "_view_module_version": "1.5.0",
            "_view_name": "HTMLView",
            "description": "",
            "description_tooltip": null,
            "layout": "IPY_MODEL_01686503bb2a4b1f87b5d90f1d72efc5",
            "placeholder": "​",
            "style": "IPY_MODEL_60e0de7dda5d4a9f852408ce3cf44451",
            "value": ""
          }
        },
        "11404866bcf54747866f6f2a214bafa6": {
          "model_module": "@jupyter-widgets/controls",
          "model_name": "FloatProgressModel",
          "model_module_version": "1.5.0",
          "state": {
            "_dom_classes": [],
            "_model_module": "@jupyter-widgets/controls",
            "_model_module_version": "1.5.0",
            "_model_name": "FloatProgressModel",
            "_view_count": null,
            "_view_module": "@jupyter-widgets/controls",
            "_view_module_version": "1.5.0",
            "_view_name": "ProgressView",
            "bar_style": "success",
            "description": "",
            "description_tooltip": null,
            "layout": "IPY_MODEL_56cb90429bb0491e8e5356b83b905287",
            "max": 9912422,
            "min": 0,
            "orientation": "horizontal",
            "style": "IPY_MODEL_cd7ff44837e941f88ad94ba85d2f72c9",
            "value": 9912422
          }
        },
        "f591553a9d76425c9e1e4ed7e544313e": {
          "model_module": "@jupyter-widgets/controls",
          "model_name": "HTMLModel",
          "model_module_version": "1.5.0",
          "state": {
            "_dom_classes": [],
            "_model_module": "@jupyter-widgets/controls",
            "_model_module_version": "1.5.0",
            "_model_name": "HTMLModel",
            "_view_count": null,
            "_view_module": "@jupyter-widgets/controls",
            "_view_module_version": "1.5.0",
            "_view_name": "HTMLView",
            "description": "",
            "description_tooltip": null,
            "layout": "IPY_MODEL_aae196a3f3f24ee791de7984774d09cb",
            "placeholder": "​",
            "style": "IPY_MODEL_e4bd482029404e80ac69d3857c8f8f66",
            "value": " 9913344/? [00:00&lt;00:00, 11683767.57it/s]"
          }
        },
        "85114ff3d9a442ea9d6bf50559595998": {
          "model_module": "@jupyter-widgets/base",
          "model_name": "LayoutModel",
          "model_module_version": "1.2.0",
          "state": {
            "_model_module": "@jupyter-widgets/base",
            "_model_module_version": "1.2.0",
            "_model_name": "LayoutModel",
            "_view_count": null,
            "_view_module": "@jupyter-widgets/base",
            "_view_module_version": "1.2.0",
            "_view_name": "LayoutView",
            "align_content": null,
            "align_items": null,
            "align_self": null,
            "border": null,
            "bottom": null,
            "display": null,
            "flex": null,
            "flex_flow": null,
            "grid_area": null,
            "grid_auto_columns": null,
            "grid_auto_flow": null,
            "grid_auto_rows": null,
            "grid_column": null,
            "grid_gap": null,
            "grid_row": null,
            "grid_template_areas": null,
            "grid_template_columns": null,
            "grid_template_rows": null,
            "height": null,
            "justify_content": null,
            "justify_items": null,
            "left": null,
            "margin": null,
            "max_height": null,
            "max_width": null,
            "min_height": null,
            "min_width": null,
            "object_fit": null,
            "object_position": null,
            "order": null,
            "overflow": null,
            "overflow_x": null,
            "overflow_y": null,
            "padding": null,
            "right": null,
            "top": null,
            "visibility": null,
            "width": null
          }
        },
        "01686503bb2a4b1f87b5d90f1d72efc5": {
          "model_module": "@jupyter-widgets/base",
          "model_name": "LayoutModel",
          "model_module_version": "1.2.0",
          "state": {
            "_model_module": "@jupyter-widgets/base",
            "_model_module_version": "1.2.0",
            "_model_name": "LayoutModel",
            "_view_count": null,
            "_view_module": "@jupyter-widgets/base",
            "_view_module_version": "1.2.0",
            "_view_name": "LayoutView",
            "align_content": null,
            "align_items": null,
            "align_self": null,
            "border": null,
            "bottom": null,
            "display": null,
            "flex": null,
            "flex_flow": null,
            "grid_area": null,
            "grid_auto_columns": null,
            "grid_auto_flow": null,
            "grid_auto_rows": null,
            "grid_column": null,
            "grid_gap": null,
            "grid_row": null,
            "grid_template_areas": null,
            "grid_template_columns": null,
            "grid_template_rows": null,
            "height": null,
            "justify_content": null,
            "justify_items": null,
            "left": null,
            "margin": null,
            "max_height": null,
            "max_width": null,
            "min_height": null,
            "min_width": null,
            "object_fit": null,
            "object_position": null,
            "order": null,
            "overflow": null,
            "overflow_x": null,
            "overflow_y": null,
            "padding": null,
            "right": null,
            "top": null,
            "visibility": null,
            "width": null
          }
        },
        "60e0de7dda5d4a9f852408ce3cf44451": {
          "model_module": "@jupyter-widgets/controls",
          "model_name": "DescriptionStyleModel",
          "model_module_version": "1.5.0",
          "state": {
            "_model_module": "@jupyter-widgets/controls",
            "_model_module_version": "1.5.0",
            "_model_name": "DescriptionStyleModel",
            "_view_count": null,
            "_view_module": "@jupyter-widgets/base",
            "_view_module_version": "1.2.0",
            "_view_name": "StyleView",
            "description_width": ""
          }
        },
        "56cb90429bb0491e8e5356b83b905287": {
          "model_module": "@jupyter-widgets/base",
          "model_name": "LayoutModel",
          "model_module_version": "1.2.0",
          "state": {
            "_model_module": "@jupyter-widgets/base",
            "_model_module_version": "1.2.0",
            "_model_name": "LayoutModel",
            "_view_count": null,
            "_view_module": "@jupyter-widgets/base",
            "_view_module_version": "1.2.0",
            "_view_name": "LayoutView",
            "align_content": null,
            "align_items": null,
            "align_self": null,
            "border": null,
            "bottom": null,
            "display": null,
            "flex": null,
            "flex_flow": null,
            "grid_area": null,
            "grid_auto_columns": null,
            "grid_auto_flow": null,
            "grid_auto_rows": null,
            "grid_column": null,
            "grid_gap": null,
            "grid_row": null,
            "grid_template_areas": null,
            "grid_template_columns": null,
            "grid_template_rows": null,
            "height": null,
            "justify_content": null,
            "justify_items": null,
            "left": null,
            "margin": null,
            "max_height": null,
            "max_width": null,
            "min_height": null,
            "min_width": null,
            "object_fit": null,
            "object_position": null,
            "order": null,
            "overflow": null,
            "overflow_x": null,
            "overflow_y": null,
            "padding": null,
            "right": null,
            "top": null,
            "visibility": null,
            "width": null
          }
        },
        "cd7ff44837e941f88ad94ba85d2f72c9": {
          "model_module": "@jupyter-widgets/controls",
          "model_name": "ProgressStyleModel",
          "model_module_version": "1.5.0",
          "state": {
            "_model_module": "@jupyter-widgets/controls",
            "_model_module_version": "1.5.0",
            "_model_name": "ProgressStyleModel",
            "_view_count": null,
            "_view_module": "@jupyter-widgets/base",
            "_view_module_version": "1.2.0",
            "_view_name": "StyleView",
            "bar_color": null,
            "description_width": ""
          }
        },
        "aae196a3f3f24ee791de7984774d09cb": {
          "model_module": "@jupyter-widgets/base",
          "model_name": "LayoutModel",
          "model_module_version": "1.2.0",
          "state": {
            "_model_module": "@jupyter-widgets/base",
            "_model_module_version": "1.2.0",
            "_model_name": "LayoutModel",
            "_view_count": null,
            "_view_module": "@jupyter-widgets/base",
            "_view_module_version": "1.2.0",
            "_view_name": "LayoutView",
            "align_content": null,
            "align_items": null,
            "align_self": null,
            "border": null,
            "bottom": null,
            "display": null,
            "flex": null,
            "flex_flow": null,
            "grid_area": null,
            "grid_auto_columns": null,
            "grid_auto_flow": null,
            "grid_auto_rows": null,
            "grid_column": null,
            "grid_gap": null,
            "grid_row": null,
            "grid_template_areas": null,
            "grid_template_columns": null,
            "grid_template_rows": null,
            "height": null,
            "justify_content": null,
            "justify_items": null,
            "left": null,
            "margin": null,
            "max_height": null,
            "max_width": null,
            "min_height": null,
            "min_width": null,
            "object_fit": null,
            "object_position": null,
            "order": null,
            "overflow": null,
            "overflow_x": null,
            "overflow_y": null,
            "padding": null,
            "right": null,
            "top": null,
            "visibility": null,
            "width": null
          }
        },
        "e4bd482029404e80ac69d3857c8f8f66": {
          "model_module": "@jupyter-widgets/controls",
          "model_name": "DescriptionStyleModel",
          "model_module_version": "1.5.0",
          "state": {
            "_model_module": "@jupyter-widgets/controls",
            "_model_module_version": "1.5.0",
            "_model_name": "DescriptionStyleModel",
            "_view_count": null,
            "_view_module": "@jupyter-widgets/base",
            "_view_module_version": "1.2.0",
            "_view_name": "StyleView",
            "description_width": ""
          }
        },
        "9a5ad0227cc7445e994959ae1fe0f353": {
          "model_module": "@jupyter-widgets/controls",
          "model_name": "HBoxModel",
          "model_module_version": "1.5.0",
          "state": {
            "_dom_classes": [],
            "_model_module": "@jupyter-widgets/controls",
            "_model_module_version": "1.5.0",
            "_model_name": "HBoxModel",
            "_view_count": null,
            "_view_module": "@jupyter-widgets/controls",
            "_view_module_version": "1.5.0",
            "_view_name": "HBoxView",
            "box_style": "",
            "children": [
              "IPY_MODEL_a2512123e818450cb065611712980f86",
              "IPY_MODEL_f2099c0db1e54658aebabdc02f72dbfe",
              "IPY_MODEL_2e5697a94e0f49ba8445be58913241bd"
            ],
            "layout": "IPY_MODEL_22c5da6c79954254a084c9999a61c5fa"
          }
        },
        "a2512123e818450cb065611712980f86": {
          "model_module": "@jupyter-widgets/controls",
          "model_name": "HTMLModel",
          "model_module_version": "1.5.0",
          "state": {
            "_dom_classes": [],
            "_model_module": "@jupyter-widgets/controls",
            "_model_module_version": "1.5.0",
            "_model_name": "HTMLModel",
            "_view_count": null,
            "_view_module": "@jupyter-widgets/controls",
            "_view_module_version": "1.5.0",
            "_view_name": "HTMLView",
            "description": "",
            "description_tooltip": null,
            "layout": "IPY_MODEL_515bd78ab07040fc98c11acc96f959df",
            "placeholder": "​",
            "style": "IPY_MODEL_af43d5981b26428fad7681e0bc3304cf",
            "value": ""
          }
        },
        "f2099c0db1e54658aebabdc02f72dbfe": {
          "model_module": "@jupyter-widgets/controls",
          "model_name": "FloatProgressModel",
          "model_module_version": "1.5.0",
          "state": {
            "_dom_classes": [],
            "_model_module": "@jupyter-widgets/controls",
            "_model_module_version": "1.5.0",
            "_model_name": "FloatProgressModel",
            "_view_count": null,
            "_view_module": "@jupyter-widgets/controls",
            "_view_module_version": "1.5.0",
            "_view_name": "ProgressView",
            "bar_style": "success",
            "description": "",
            "description_tooltip": null,
            "layout": "IPY_MODEL_aeae34975b69499b84a4a02029097b2a",
            "max": 28881,
            "min": 0,
            "orientation": "horizontal",
            "style": "IPY_MODEL_42e385a7f79f482899fa89c10d2fe0b3",
            "value": 28881
          }
        },
        "2e5697a94e0f49ba8445be58913241bd": {
          "model_module": "@jupyter-widgets/controls",
          "model_name": "HTMLModel",
          "model_module_version": "1.5.0",
          "state": {
            "_dom_classes": [],
            "_model_module": "@jupyter-widgets/controls",
            "_model_module_version": "1.5.0",
            "_model_name": "HTMLModel",
            "_view_count": null,
            "_view_module": "@jupyter-widgets/controls",
            "_view_module_version": "1.5.0",
            "_view_name": "HTMLView",
            "description": "",
            "description_tooltip": null,
            "layout": "IPY_MODEL_6fbf836d5df94a63b9045356ff923001",
            "placeholder": "​",
            "style": "IPY_MODEL_a6bb04c6b6c940f1a8fdd11ef90e0972",
            "value": " 29696/? [00:00&lt;00:00, 853507.47it/s]"
          }
        },
        "22c5da6c79954254a084c9999a61c5fa": {
          "model_module": "@jupyter-widgets/base",
          "model_name": "LayoutModel",
          "model_module_version": "1.2.0",
          "state": {
            "_model_module": "@jupyter-widgets/base",
            "_model_module_version": "1.2.0",
            "_model_name": "LayoutModel",
            "_view_count": null,
            "_view_module": "@jupyter-widgets/base",
            "_view_module_version": "1.2.0",
            "_view_name": "LayoutView",
            "align_content": null,
            "align_items": null,
            "align_self": null,
            "border": null,
            "bottom": null,
            "display": null,
            "flex": null,
            "flex_flow": null,
            "grid_area": null,
            "grid_auto_columns": null,
            "grid_auto_flow": null,
            "grid_auto_rows": null,
            "grid_column": null,
            "grid_gap": null,
            "grid_row": null,
            "grid_template_areas": null,
            "grid_template_columns": null,
            "grid_template_rows": null,
            "height": null,
            "justify_content": null,
            "justify_items": null,
            "left": null,
            "margin": null,
            "max_height": null,
            "max_width": null,
            "min_height": null,
            "min_width": null,
            "object_fit": null,
            "object_position": null,
            "order": null,
            "overflow": null,
            "overflow_x": null,
            "overflow_y": null,
            "padding": null,
            "right": null,
            "top": null,
            "visibility": null,
            "width": null
          }
        },
        "515bd78ab07040fc98c11acc96f959df": {
          "model_module": "@jupyter-widgets/base",
          "model_name": "LayoutModel",
          "model_module_version": "1.2.0",
          "state": {
            "_model_module": "@jupyter-widgets/base",
            "_model_module_version": "1.2.0",
            "_model_name": "LayoutModel",
            "_view_count": null,
            "_view_module": "@jupyter-widgets/base",
            "_view_module_version": "1.2.0",
            "_view_name": "LayoutView",
            "align_content": null,
            "align_items": null,
            "align_self": null,
            "border": null,
            "bottom": null,
            "display": null,
            "flex": null,
            "flex_flow": null,
            "grid_area": null,
            "grid_auto_columns": null,
            "grid_auto_flow": null,
            "grid_auto_rows": null,
            "grid_column": null,
            "grid_gap": null,
            "grid_row": null,
            "grid_template_areas": null,
            "grid_template_columns": null,
            "grid_template_rows": null,
            "height": null,
            "justify_content": null,
            "justify_items": null,
            "left": null,
            "margin": null,
            "max_height": null,
            "max_width": null,
            "min_height": null,
            "min_width": null,
            "object_fit": null,
            "object_position": null,
            "order": null,
            "overflow": null,
            "overflow_x": null,
            "overflow_y": null,
            "padding": null,
            "right": null,
            "top": null,
            "visibility": null,
            "width": null
          }
        },
        "af43d5981b26428fad7681e0bc3304cf": {
          "model_module": "@jupyter-widgets/controls",
          "model_name": "DescriptionStyleModel",
          "model_module_version": "1.5.0",
          "state": {
            "_model_module": "@jupyter-widgets/controls",
            "_model_module_version": "1.5.0",
            "_model_name": "DescriptionStyleModel",
            "_view_count": null,
            "_view_module": "@jupyter-widgets/base",
            "_view_module_version": "1.2.0",
            "_view_name": "StyleView",
            "description_width": ""
          }
        },
        "aeae34975b69499b84a4a02029097b2a": {
          "model_module": "@jupyter-widgets/base",
          "model_name": "LayoutModel",
          "model_module_version": "1.2.0",
          "state": {
            "_model_module": "@jupyter-widgets/base",
            "_model_module_version": "1.2.0",
            "_model_name": "LayoutModel",
            "_view_count": null,
            "_view_module": "@jupyter-widgets/base",
            "_view_module_version": "1.2.0",
            "_view_name": "LayoutView",
            "align_content": null,
            "align_items": null,
            "align_self": null,
            "border": null,
            "bottom": null,
            "display": null,
            "flex": null,
            "flex_flow": null,
            "grid_area": null,
            "grid_auto_columns": null,
            "grid_auto_flow": null,
            "grid_auto_rows": null,
            "grid_column": null,
            "grid_gap": null,
            "grid_row": null,
            "grid_template_areas": null,
            "grid_template_columns": null,
            "grid_template_rows": null,
            "height": null,
            "justify_content": null,
            "justify_items": null,
            "left": null,
            "margin": null,
            "max_height": null,
            "max_width": null,
            "min_height": null,
            "min_width": null,
            "object_fit": null,
            "object_position": null,
            "order": null,
            "overflow": null,
            "overflow_x": null,
            "overflow_y": null,
            "padding": null,
            "right": null,
            "top": null,
            "visibility": null,
            "width": null
          }
        },
        "42e385a7f79f482899fa89c10d2fe0b3": {
          "model_module": "@jupyter-widgets/controls",
          "model_name": "ProgressStyleModel",
          "model_module_version": "1.5.0",
          "state": {
            "_model_module": "@jupyter-widgets/controls",
            "_model_module_version": "1.5.0",
            "_model_name": "ProgressStyleModel",
            "_view_count": null,
            "_view_module": "@jupyter-widgets/base",
            "_view_module_version": "1.2.0",
            "_view_name": "StyleView",
            "bar_color": null,
            "description_width": ""
          }
        },
        "6fbf836d5df94a63b9045356ff923001": {
          "model_module": "@jupyter-widgets/base",
          "model_name": "LayoutModel",
          "model_module_version": "1.2.0",
          "state": {
            "_model_module": "@jupyter-widgets/base",
            "_model_module_version": "1.2.0",
            "_model_name": "LayoutModel",
            "_view_count": null,
            "_view_module": "@jupyter-widgets/base",
            "_view_module_version": "1.2.0",
            "_view_name": "LayoutView",
            "align_content": null,
            "align_items": null,
            "align_self": null,
            "border": null,
            "bottom": null,
            "display": null,
            "flex": null,
            "flex_flow": null,
            "grid_area": null,
            "grid_auto_columns": null,
            "grid_auto_flow": null,
            "grid_auto_rows": null,
            "grid_column": null,
            "grid_gap": null,
            "grid_row": null,
            "grid_template_areas": null,
            "grid_template_columns": null,
            "grid_template_rows": null,
            "height": null,
            "justify_content": null,
            "justify_items": null,
            "left": null,
            "margin": null,
            "max_height": null,
            "max_width": null,
            "min_height": null,
            "min_width": null,
            "object_fit": null,
            "object_position": null,
            "order": null,
            "overflow": null,
            "overflow_x": null,
            "overflow_y": null,
            "padding": null,
            "right": null,
            "top": null,
            "visibility": null,
            "width": null
          }
        },
        "a6bb04c6b6c940f1a8fdd11ef90e0972": {
          "model_module": "@jupyter-widgets/controls",
          "model_name": "DescriptionStyleModel",
          "model_module_version": "1.5.0",
          "state": {
            "_model_module": "@jupyter-widgets/controls",
            "_model_module_version": "1.5.0",
            "_model_name": "DescriptionStyleModel",
            "_view_count": null,
            "_view_module": "@jupyter-widgets/base",
            "_view_module_version": "1.2.0",
            "_view_name": "StyleView",
            "description_width": ""
          }
        },
        "fc87fd16252d4b15ad98e73a34622ced": {
          "model_module": "@jupyter-widgets/controls",
          "model_name": "HBoxModel",
          "model_module_version": "1.5.0",
          "state": {
            "_dom_classes": [],
            "_model_module": "@jupyter-widgets/controls",
            "_model_module_version": "1.5.0",
            "_model_name": "HBoxModel",
            "_view_count": null,
            "_view_module": "@jupyter-widgets/controls",
            "_view_module_version": "1.5.0",
            "_view_name": "HBoxView",
            "box_style": "",
            "children": [
              "IPY_MODEL_2c45932758a447deaccbd0385646aed2",
              "IPY_MODEL_25ac7f1d88774e7b90a974f76dccbc09",
              "IPY_MODEL_454ede92cd26475f9bf05dbb8530fc52"
            ],
            "layout": "IPY_MODEL_cd1123b4c6774a4e96e5382de6b5989c"
          }
        },
        "2c45932758a447deaccbd0385646aed2": {
          "model_module": "@jupyter-widgets/controls",
          "model_name": "HTMLModel",
          "model_module_version": "1.5.0",
          "state": {
            "_dom_classes": [],
            "_model_module": "@jupyter-widgets/controls",
            "_model_module_version": "1.5.0",
            "_model_name": "HTMLModel",
            "_view_count": null,
            "_view_module": "@jupyter-widgets/controls",
            "_view_module_version": "1.5.0",
            "_view_name": "HTMLView",
            "description": "",
            "description_tooltip": null,
            "layout": "IPY_MODEL_d32baeb99c9045838eb2a8d9404e4246",
            "placeholder": "​",
            "style": "IPY_MODEL_5aff1c6928884961a77757094cd9e02d",
            "value": ""
          }
        },
        "25ac7f1d88774e7b90a974f76dccbc09": {
          "model_module": "@jupyter-widgets/controls",
          "model_name": "FloatProgressModel",
          "model_module_version": "1.5.0",
          "state": {
            "_dom_classes": [],
            "_model_module": "@jupyter-widgets/controls",
            "_model_module_version": "1.5.0",
            "_model_name": "FloatProgressModel",
            "_view_count": null,
            "_view_module": "@jupyter-widgets/controls",
            "_view_module_version": "1.5.0",
            "_view_name": "ProgressView",
            "bar_style": "success",
            "description": "",
            "description_tooltip": null,
            "layout": "IPY_MODEL_26d9b23ffe704af286d7247f30932a55",
            "max": 1648877,
            "min": 0,
            "orientation": "horizontal",
            "style": "IPY_MODEL_f743a9d0f3274d3cac87ec446d8725cc",
            "value": 1648877
          }
        },
        "454ede92cd26475f9bf05dbb8530fc52": {
          "model_module": "@jupyter-widgets/controls",
          "model_name": "HTMLModel",
          "model_module_version": "1.5.0",
          "state": {
            "_dom_classes": [],
            "_model_module": "@jupyter-widgets/controls",
            "_model_module_version": "1.5.0",
            "_model_name": "HTMLModel",
            "_view_count": null,
            "_view_module": "@jupyter-widgets/controls",
            "_view_module_version": "1.5.0",
            "_view_name": "HTMLView",
            "description": "",
            "description_tooltip": null,
            "layout": "IPY_MODEL_ce802075efcb438b9b29001444747c16",
            "placeholder": "​",
            "style": "IPY_MODEL_4877de80777d4e0d9f501eb08fb345bf",
            "value": " 1649664/? [00:00&lt;00:00, 10464092.46it/s]"
          }
        },
        "cd1123b4c6774a4e96e5382de6b5989c": {
          "model_module": "@jupyter-widgets/base",
          "model_name": "LayoutModel",
          "model_module_version": "1.2.0",
          "state": {
            "_model_module": "@jupyter-widgets/base",
            "_model_module_version": "1.2.0",
            "_model_name": "LayoutModel",
            "_view_count": null,
            "_view_module": "@jupyter-widgets/base",
            "_view_module_version": "1.2.0",
            "_view_name": "LayoutView",
            "align_content": null,
            "align_items": null,
            "align_self": null,
            "border": null,
            "bottom": null,
            "display": null,
            "flex": null,
            "flex_flow": null,
            "grid_area": null,
            "grid_auto_columns": null,
            "grid_auto_flow": null,
            "grid_auto_rows": null,
            "grid_column": null,
            "grid_gap": null,
            "grid_row": null,
            "grid_template_areas": null,
            "grid_template_columns": null,
            "grid_template_rows": null,
            "height": null,
            "justify_content": null,
            "justify_items": null,
            "left": null,
            "margin": null,
            "max_height": null,
            "max_width": null,
            "min_height": null,
            "min_width": null,
            "object_fit": null,
            "object_position": null,
            "order": null,
            "overflow": null,
            "overflow_x": null,
            "overflow_y": null,
            "padding": null,
            "right": null,
            "top": null,
            "visibility": null,
            "width": null
          }
        },
        "d32baeb99c9045838eb2a8d9404e4246": {
          "model_module": "@jupyter-widgets/base",
          "model_name": "LayoutModel",
          "model_module_version": "1.2.0",
          "state": {
            "_model_module": "@jupyter-widgets/base",
            "_model_module_version": "1.2.0",
            "_model_name": "LayoutModel",
            "_view_count": null,
            "_view_module": "@jupyter-widgets/base",
            "_view_module_version": "1.2.0",
            "_view_name": "LayoutView",
            "align_content": null,
            "align_items": null,
            "align_self": null,
            "border": null,
            "bottom": null,
            "display": null,
            "flex": null,
            "flex_flow": null,
            "grid_area": null,
            "grid_auto_columns": null,
            "grid_auto_flow": null,
            "grid_auto_rows": null,
            "grid_column": null,
            "grid_gap": null,
            "grid_row": null,
            "grid_template_areas": null,
            "grid_template_columns": null,
            "grid_template_rows": null,
            "height": null,
            "justify_content": null,
            "justify_items": null,
            "left": null,
            "margin": null,
            "max_height": null,
            "max_width": null,
            "min_height": null,
            "min_width": null,
            "object_fit": null,
            "object_position": null,
            "order": null,
            "overflow": null,
            "overflow_x": null,
            "overflow_y": null,
            "padding": null,
            "right": null,
            "top": null,
            "visibility": null,
            "width": null
          }
        },
        "5aff1c6928884961a77757094cd9e02d": {
          "model_module": "@jupyter-widgets/controls",
          "model_name": "DescriptionStyleModel",
          "model_module_version": "1.5.0",
          "state": {
            "_model_module": "@jupyter-widgets/controls",
            "_model_module_version": "1.5.0",
            "_model_name": "DescriptionStyleModel",
            "_view_count": null,
            "_view_module": "@jupyter-widgets/base",
            "_view_module_version": "1.2.0",
            "_view_name": "StyleView",
            "description_width": ""
          }
        },
        "26d9b23ffe704af286d7247f30932a55": {
          "model_module": "@jupyter-widgets/base",
          "model_name": "LayoutModel",
          "model_module_version": "1.2.0",
          "state": {
            "_model_module": "@jupyter-widgets/base",
            "_model_module_version": "1.2.0",
            "_model_name": "LayoutModel",
            "_view_count": null,
            "_view_module": "@jupyter-widgets/base",
            "_view_module_version": "1.2.0",
            "_view_name": "LayoutView",
            "align_content": null,
            "align_items": null,
            "align_self": null,
            "border": null,
            "bottom": null,
            "display": null,
            "flex": null,
            "flex_flow": null,
            "grid_area": null,
            "grid_auto_columns": null,
            "grid_auto_flow": null,
            "grid_auto_rows": null,
            "grid_column": null,
            "grid_gap": null,
            "grid_row": null,
            "grid_template_areas": null,
            "grid_template_columns": null,
            "grid_template_rows": null,
            "height": null,
            "justify_content": null,
            "justify_items": null,
            "left": null,
            "margin": null,
            "max_height": null,
            "max_width": null,
            "min_height": null,
            "min_width": null,
            "object_fit": null,
            "object_position": null,
            "order": null,
            "overflow": null,
            "overflow_x": null,
            "overflow_y": null,
            "padding": null,
            "right": null,
            "top": null,
            "visibility": null,
            "width": null
          }
        },
        "f743a9d0f3274d3cac87ec446d8725cc": {
          "model_module": "@jupyter-widgets/controls",
          "model_name": "ProgressStyleModel",
          "model_module_version": "1.5.0",
          "state": {
            "_model_module": "@jupyter-widgets/controls",
            "_model_module_version": "1.5.0",
            "_model_name": "ProgressStyleModel",
            "_view_count": null,
            "_view_module": "@jupyter-widgets/base",
            "_view_module_version": "1.2.0",
            "_view_name": "StyleView",
            "bar_color": null,
            "description_width": ""
          }
        },
        "ce802075efcb438b9b29001444747c16": {
          "model_module": "@jupyter-widgets/base",
          "model_name": "LayoutModel",
          "model_module_version": "1.2.0",
          "state": {
            "_model_module": "@jupyter-widgets/base",
            "_model_module_version": "1.2.0",
            "_model_name": "LayoutModel",
            "_view_count": null,
            "_view_module": "@jupyter-widgets/base",
            "_view_module_version": "1.2.0",
            "_view_name": "LayoutView",
            "align_content": null,
            "align_items": null,
            "align_self": null,
            "border": null,
            "bottom": null,
            "display": null,
            "flex": null,
            "flex_flow": null,
            "grid_area": null,
            "grid_auto_columns": null,
            "grid_auto_flow": null,
            "grid_auto_rows": null,
            "grid_column": null,
            "grid_gap": null,
            "grid_row": null,
            "grid_template_areas": null,
            "grid_template_columns": null,
            "grid_template_rows": null,
            "height": null,
            "justify_content": null,
            "justify_items": null,
            "left": null,
            "margin": null,
            "max_height": null,
            "max_width": null,
            "min_height": null,
            "min_width": null,
            "object_fit": null,
            "object_position": null,
            "order": null,
            "overflow": null,
            "overflow_x": null,
            "overflow_y": null,
            "padding": null,
            "right": null,
            "top": null,
            "visibility": null,
            "width": null
          }
        },
        "4877de80777d4e0d9f501eb08fb345bf": {
          "model_module": "@jupyter-widgets/controls",
          "model_name": "DescriptionStyleModel",
          "model_module_version": "1.5.0",
          "state": {
            "_model_module": "@jupyter-widgets/controls",
            "_model_module_version": "1.5.0",
            "_model_name": "DescriptionStyleModel",
            "_view_count": null,
            "_view_module": "@jupyter-widgets/base",
            "_view_module_version": "1.2.0",
            "_view_name": "StyleView",
            "description_width": ""
          }
        },
        "b426dda8b88047bdb35ab9243524ef49": {
          "model_module": "@jupyter-widgets/controls",
          "model_name": "HBoxModel",
          "model_module_version": "1.5.0",
          "state": {
            "_dom_classes": [],
            "_model_module": "@jupyter-widgets/controls",
            "_model_module_version": "1.5.0",
            "_model_name": "HBoxModel",
            "_view_count": null,
            "_view_module": "@jupyter-widgets/controls",
            "_view_module_version": "1.5.0",
            "_view_name": "HBoxView",
            "box_style": "",
            "children": [
              "IPY_MODEL_d9b6fe0898af498bbbb04fcb1607d863",
              "IPY_MODEL_5c90ca998bf2414f8f177b1590bfceb0",
              "IPY_MODEL_e27a1bdffc634ccf88ef469b94247299"
            ],
            "layout": "IPY_MODEL_1584e361ef7748c2b4d31a677cccf8cf"
          }
        },
        "d9b6fe0898af498bbbb04fcb1607d863": {
          "model_module": "@jupyter-widgets/controls",
          "model_name": "HTMLModel",
          "model_module_version": "1.5.0",
          "state": {
            "_dom_classes": [],
            "_model_module": "@jupyter-widgets/controls",
            "_model_module_version": "1.5.0",
            "_model_name": "HTMLModel",
            "_view_count": null,
            "_view_module": "@jupyter-widgets/controls",
            "_view_module_version": "1.5.0",
            "_view_name": "HTMLView",
            "description": "",
            "description_tooltip": null,
            "layout": "IPY_MODEL_a34fb5214a594c8eac5363837e9d8a63",
            "placeholder": "​",
            "style": "IPY_MODEL_fb2ea1e40b8c446b9b9e0ae2e7bcc560",
            "value": ""
          }
        },
        "5c90ca998bf2414f8f177b1590bfceb0": {
          "model_module": "@jupyter-widgets/controls",
          "model_name": "FloatProgressModel",
          "model_module_version": "1.5.0",
          "state": {
            "_dom_classes": [],
            "_model_module": "@jupyter-widgets/controls",
            "_model_module_version": "1.5.0",
            "_model_name": "FloatProgressModel",
            "_view_count": null,
            "_view_module": "@jupyter-widgets/controls",
            "_view_module_version": "1.5.0",
            "_view_name": "ProgressView",
            "bar_style": "success",
            "description": "",
            "description_tooltip": null,
            "layout": "IPY_MODEL_85e16462128d42ccaec1a014173709f9",
            "max": 4542,
            "min": 0,
            "orientation": "horizontal",
            "style": "IPY_MODEL_fb8429808f2e43e885d6787bd2774ec6",
            "value": 4542
          }
        },
        "e27a1bdffc634ccf88ef469b94247299": {
          "model_module": "@jupyter-widgets/controls",
          "model_name": "HTMLModel",
          "model_module_version": "1.5.0",
          "state": {
            "_dom_classes": [],
            "_model_module": "@jupyter-widgets/controls",
            "_model_module_version": "1.5.0",
            "_model_name": "HTMLModel",
            "_view_count": null,
            "_view_module": "@jupyter-widgets/controls",
            "_view_module_version": "1.5.0",
            "_view_name": "HTMLView",
            "description": "",
            "description_tooltip": null,
            "layout": "IPY_MODEL_dab6dc3e2e854bf1bff7c7a755a15d7a",
            "placeholder": "​",
            "style": "IPY_MODEL_cee20e8e511d4f98833e4eed33234ec7",
            "value": " 5120/? [00:00&lt;00:00, 136222.76it/s]"
          }
        },
        "1584e361ef7748c2b4d31a677cccf8cf": {
          "model_module": "@jupyter-widgets/base",
          "model_name": "LayoutModel",
          "model_module_version": "1.2.0",
          "state": {
            "_model_module": "@jupyter-widgets/base",
            "_model_module_version": "1.2.0",
            "_model_name": "LayoutModel",
            "_view_count": null,
            "_view_module": "@jupyter-widgets/base",
            "_view_module_version": "1.2.0",
            "_view_name": "LayoutView",
            "align_content": null,
            "align_items": null,
            "align_self": null,
            "border": null,
            "bottom": null,
            "display": null,
            "flex": null,
            "flex_flow": null,
            "grid_area": null,
            "grid_auto_columns": null,
            "grid_auto_flow": null,
            "grid_auto_rows": null,
            "grid_column": null,
            "grid_gap": null,
            "grid_row": null,
            "grid_template_areas": null,
            "grid_template_columns": null,
            "grid_template_rows": null,
            "height": null,
            "justify_content": null,
            "justify_items": null,
            "left": null,
            "margin": null,
            "max_height": null,
            "max_width": null,
            "min_height": null,
            "min_width": null,
            "object_fit": null,
            "object_position": null,
            "order": null,
            "overflow": null,
            "overflow_x": null,
            "overflow_y": null,
            "padding": null,
            "right": null,
            "top": null,
            "visibility": null,
            "width": null
          }
        },
        "a34fb5214a594c8eac5363837e9d8a63": {
          "model_module": "@jupyter-widgets/base",
          "model_name": "LayoutModel",
          "model_module_version": "1.2.0",
          "state": {
            "_model_module": "@jupyter-widgets/base",
            "_model_module_version": "1.2.0",
            "_model_name": "LayoutModel",
            "_view_count": null,
            "_view_module": "@jupyter-widgets/base",
            "_view_module_version": "1.2.0",
            "_view_name": "LayoutView",
            "align_content": null,
            "align_items": null,
            "align_self": null,
            "border": null,
            "bottom": null,
            "display": null,
            "flex": null,
            "flex_flow": null,
            "grid_area": null,
            "grid_auto_columns": null,
            "grid_auto_flow": null,
            "grid_auto_rows": null,
            "grid_column": null,
            "grid_gap": null,
            "grid_row": null,
            "grid_template_areas": null,
            "grid_template_columns": null,
            "grid_template_rows": null,
            "height": null,
            "justify_content": null,
            "justify_items": null,
            "left": null,
            "margin": null,
            "max_height": null,
            "max_width": null,
            "min_height": null,
            "min_width": null,
            "object_fit": null,
            "object_position": null,
            "order": null,
            "overflow": null,
            "overflow_x": null,
            "overflow_y": null,
            "padding": null,
            "right": null,
            "top": null,
            "visibility": null,
            "width": null
          }
        },
        "fb2ea1e40b8c446b9b9e0ae2e7bcc560": {
          "model_module": "@jupyter-widgets/controls",
          "model_name": "DescriptionStyleModel",
          "model_module_version": "1.5.0",
          "state": {
            "_model_module": "@jupyter-widgets/controls",
            "_model_module_version": "1.5.0",
            "_model_name": "DescriptionStyleModel",
            "_view_count": null,
            "_view_module": "@jupyter-widgets/base",
            "_view_module_version": "1.2.0",
            "_view_name": "StyleView",
            "description_width": ""
          }
        },
        "85e16462128d42ccaec1a014173709f9": {
          "model_module": "@jupyter-widgets/base",
          "model_name": "LayoutModel",
          "model_module_version": "1.2.0",
          "state": {
            "_model_module": "@jupyter-widgets/base",
            "_model_module_version": "1.2.0",
            "_model_name": "LayoutModel",
            "_view_count": null,
            "_view_module": "@jupyter-widgets/base",
            "_view_module_version": "1.2.0",
            "_view_name": "LayoutView",
            "align_content": null,
            "align_items": null,
            "align_self": null,
            "border": null,
            "bottom": null,
            "display": null,
            "flex": null,
            "flex_flow": null,
            "grid_area": null,
            "grid_auto_columns": null,
            "grid_auto_flow": null,
            "grid_auto_rows": null,
            "grid_column": null,
            "grid_gap": null,
            "grid_row": null,
            "grid_template_areas": null,
            "grid_template_columns": null,
            "grid_template_rows": null,
            "height": null,
            "justify_content": null,
            "justify_items": null,
            "left": null,
            "margin": null,
            "max_height": null,
            "max_width": null,
            "min_height": null,
            "min_width": null,
            "object_fit": null,
            "object_position": null,
            "order": null,
            "overflow": null,
            "overflow_x": null,
            "overflow_y": null,
            "padding": null,
            "right": null,
            "top": null,
            "visibility": null,
            "width": null
          }
        },
        "fb8429808f2e43e885d6787bd2774ec6": {
          "model_module": "@jupyter-widgets/controls",
          "model_name": "ProgressStyleModel",
          "model_module_version": "1.5.0",
          "state": {
            "_model_module": "@jupyter-widgets/controls",
            "_model_module_version": "1.5.0",
            "_model_name": "ProgressStyleModel",
            "_view_count": null,
            "_view_module": "@jupyter-widgets/base",
            "_view_module_version": "1.2.0",
            "_view_name": "StyleView",
            "bar_color": null,
            "description_width": ""
          }
        },
        "dab6dc3e2e854bf1bff7c7a755a15d7a": {
          "model_module": "@jupyter-widgets/base",
          "model_name": "LayoutModel",
          "model_module_version": "1.2.0",
          "state": {
            "_model_module": "@jupyter-widgets/base",
            "_model_module_version": "1.2.0",
            "_model_name": "LayoutModel",
            "_view_count": null,
            "_view_module": "@jupyter-widgets/base",
            "_view_module_version": "1.2.0",
            "_view_name": "LayoutView",
            "align_content": null,
            "align_items": null,
            "align_self": null,
            "border": null,
            "bottom": null,
            "display": null,
            "flex": null,
            "flex_flow": null,
            "grid_area": null,
            "grid_auto_columns": null,
            "grid_auto_flow": null,
            "grid_auto_rows": null,
            "grid_column": null,
            "grid_gap": null,
            "grid_row": null,
            "grid_template_areas": null,
            "grid_template_columns": null,
            "grid_template_rows": null,
            "height": null,
            "justify_content": null,
            "justify_items": null,
            "left": null,
            "margin": null,
            "max_height": null,
            "max_width": null,
            "min_height": null,
            "min_width": null,
            "object_fit": null,
            "object_position": null,
            "order": null,
            "overflow": null,
            "overflow_x": null,
            "overflow_y": null,
            "padding": null,
            "right": null,
            "top": null,
            "visibility": null,
            "width": null
          }
        },
        "cee20e8e511d4f98833e4eed33234ec7": {
          "model_module": "@jupyter-widgets/controls",
          "model_name": "DescriptionStyleModel",
          "model_module_version": "1.5.0",
          "state": {
            "_model_module": "@jupyter-widgets/controls",
            "_model_module_version": "1.5.0",
            "_model_name": "DescriptionStyleModel",
            "_view_count": null,
            "_view_module": "@jupyter-widgets/base",
            "_view_module_version": "1.2.0",
            "_view_name": "StyleView",
            "description_width": ""
          }
        }
      }
    }
  },
  "nbformat": 4,
  "nbformat_minor": 0
}